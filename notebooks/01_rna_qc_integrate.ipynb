{
 "cells": [
  {
   "cell_type": "code",
   "execution_count": 9,
   "id": "e84c91c9-2e56-418b-a33c-424e436fc9e7",
   "metadata": {},
   "outputs": [],
   "source": [
    "import re, yaml, json\n",
    "import scanpy as sc, anndata as ad\n",
    "import numpy as np, pandas as pd\n",
    "from pathlib import Path"
   ]
  },
  {
   "cell_type": "code",
   "execution_count": 10,
   "id": "94ba6309-60db-4b1d-8d94-c01878566ffa",
   "metadata": {},
   "outputs": [],
   "source": [
    "def load_cfg(path=\"config.yaml\"):\n",
    "    with open(path) as f:\n",
    "        return yaml.safe_load(f)\n",
    "\n",
    "def discover_samples(cfg):\n",
    "    raw = Path(cfg[\"paths\"][\"raw\"])\n",
    "    rna_pat = re.compile(cfg[\"patterns\"][\"rna\"])\n",
    "    atac_pat = re.compile(cfg[\"patterns\"][\"atac\"])\n",
    "    rna_files = [str(p) for p in raw.iterdir() if rna_pat.match(p.name)]\n",
    "    atac_files = [str(p) for p in raw.iterdir() if atac_pat.match(p.name)]\n",
    "    return rna_files, atac_files\n",
    "\n",
    "def parse_meta_from_names(files, regex, cond_map):\n",
    "    rx = re.compile(regex)\n",
    "    rows = []\n",
    "    for f in files:\n",
    "        m = rx.search(Path(f).name)\n",
    "        if not m:\n",
    "            continue\n",
    "        gsm, token, tp = m.group(1), m.group(\"token\"), m.group(\"tp\")\n",
    "        token_key = token if token in cond_map else (\n",
    "            \"Fezf2KO\" if \"Fezf2KO\" in token else\n",
    "            \"Fezf2Het_P1F\" if \"P1F\" in token else\n",
    "            \"Fezf2Het_P1M\" if \"P1M\" in token else\n",
    "            \"Fezf2Het\" if \"Fezf2Het\" in token else\n",
    "            \"WT\"\n",
    "        )\n",
    "        geno = cond_map[token_key][\"genotype\"]\n",
    "        sex  = cond_map[token_key][\"sex\"]\n",
    "        rows.append(dict(sample=f\"{gsm}_{token}_{tp}\",\n",
    "                         gsm=gsm, token=token, timepoint=tp,\n",
    "                         genotype=geno, sex=sex, file=f))\n",
    "    return pd.DataFrame(rows)\n"
   ]
  },
  {
   "cell_type": "code",
   "execution_count": 14,
   "id": "a0252b89-36df-4d4d-92bd-19d8fa794d04",
   "metadata": {},
   "outputs": [
    {
     "ename": "FileNotFoundError",
     "evalue": "[Errno 2] No such file or directory: 'config.yaml'",
     "output_type": "error",
     "traceback": [
      "\u001b[31m---------------------------------------------------------------------------\u001b[39m",
      "\u001b[31mFileNotFoundError\u001b[39m                         Traceback (most recent call last)",
      "\u001b[36mCell\u001b[39m\u001b[36m \u001b[39m\u001b[32mIn[14]\u001b[39m\u001b[32m, line 1\u001b[39m\n\u001b[32m----> \u001b[39m\u001b[32m1\u001b[39m cfg = \u001b[43mload_cfg\u001b[49m\u001b[43m(\u001b[49m\u001b[43m)\u001b[49m\n\u001b[32m      2\u001b[39m outdir = Path(cfg[\u001b[33m\"\u001b[39m\u001b[33mpaths\u001b[39m\u001b[33m\"\u001b[39m][\u001b[33m\"\u001b[39m\u001b[33mout\u001b[39m\u001b[33m\"\u001b[39m]).joinpath(\u001b[33m\"\u001b[39m\u001b[33mrna\u001b[39m\u001b[33m\"\u001b[39m); outdir.mkdir(parents=\u001b[38;5;28;01mTrue\u001b[39;00m, exist_ok=\u001b[38;5;28;01mTrue\u001b[39;00m)\n",
      "\u001b[36mCell\u001b[39m\u001b[36m \u001b[39m\u001b[32mIn[11]\u001b[39m\u001b[32m, line 2\u001b[39m, in \u001b[36mload_cfg\u001b[39m\u001b[34m(path)\u001b[39m\n\u001b[32m      1\u001b[39m \u001b[38;5;28;01mdef\u001b[39;00m\u001b[38;5;250m \u001b[39m\u001b[34mload_cfg\u001b[39m(path=\u001b[33m\"\u001b[39m\u001b[33mconfig.yaml\u001b[39m\u001b[33m\"\u001b[39m):\n\u001b[32m----> \u001b[39m\u001b[32m2\u001b[39m     \u001b[38;5;28;01mwith\u001b[39;00m \u001b[38;5;28;43mopen\u001b[39;49m\u001b[43m(\u001b[49m\u001b[43mpath\u001b[49m\u001b[43m)\u001b[49m \u001b[38;5;28;01mas\u001b[39;00m f:\n\u001b[32m      3\u001b[39m         \u001b[38;5;28;01mreturn\u001b[39;00m yaml.safe_load(f)\n",
      "\u001b[36mFile \u001b[39m\u001b[32m~/miniconda3/envs/fezf2-scverse/lib/python3.11/site-packages/IPython/core/interactiveshell.py:343\u001b[39m, in \u001b[36m_modified_open\u001b[39m\u001b[34m(file, *args, **kwargs)\u001b[39m\n\u001b[32m    336\u001b[39m \u001b[38;5;28;01mif\u001b[39;00m file \u001b[38;5;129;01min\u001b[39;00m {\u001b[32m0\u001b[39m, \u001b[32m1\u001b[39m, \u001b[32m2\u001b[39m}:\n\u001b[32m    337\u001b[39m     \u001b[38;5;28;01mraise\u001b[39;00m \u001b[38;5;167;01mValueError\u001b[39;00m(\n\u001b[32m    338\u001b[39m         \u001b[33mf\u001b[39m\u001b[33m\"\u001b[39m\u001b[33mIPython won\u001b[39m\u001b[33m'\u001b[39m\u001b[33mt let you open fd=\u001b[39m\u001b[38;5;132;01m{\u001b[39;00mfile\u001b[38;5;132;01m}\u001b[39;00m\u001b[33m by default \u001b[39m\u001b[33m\"\u001b[39m\n\u001b[32m    339\u001b[39m         \u001b[33m\"\u001b[39m\u001b[33mas it is likely to crash IPython. If you know what you are doing, \u001b[39m\u001b[33m\"\u001b[39m\n\u001b[32m    340\u001b[39m         \u001b[33m\"\u001b[39m\u001b[33myou can use builtins\u001b[39m\u001b[33m'\u001b[39m\u001b[33m open.\u001b[39m\u001b[33m\"\u001b[39m\n\u001b[32m    341\u001b[39m     )\n\u001b[32m--> \u001b[39m\u001b[32m343\u001b[39m \u001b[38;5;28;01mreturn\u001b[39;00m \u001b[43mio_open\u001b[49m\u001b[43m(\u001b[49m\u001b[43mfile\u001b[49m\u001b[43m,\u001b[49m\u001b[43m \u001b[49m\u001b[43m*\u001b[49m\u001b[43margs\u001b[49m\u001b[43m,\u001b[49m\u001b[43m \u001b[49m\u001b[43m*\u001b[49m\u001b[43m*\u001b[49m\u001b[43mkwargs\u001b[49m\u001b[43m)\u001b[49m\n",
      "\u001b[31mFileNotFoundError\u001b[39m: [Errno 2] No such file or directory: 'config.yaml'"
     ]
    }
   ],
   "source": [
    "cfg = load_cfg()\n",
    "outdir = Path(cfg[\"paths\"][\"out\"]).joinpath(\"rna\"); outdir.mkdir(parents=True, exist_ok=True)"
   ]
  },
  {
   "cell_type": "code",
   "execution_count": null,
   "id": "8f01ff65-6945-4e3f-96b4-a533d478febe",
   "metadata": {},
   "outputs": [],
   "source": []
  }
 ],
 "metadata": {
  "kernelspec": {
   "display_name": "Python 3 (ipykernel)",
   "language": "python",
   "name": "python3"
  },
  "language_info": {
   "codemirror_mode": {
    "name": "ipython",
    "version": 3
   },
   "file_extension": ".py",
   "mimetype": "text/x-python",
   "name": "python",
   "nbconvert_exporter": "python",
   "pygments_lexer": "ipython3",
   "version": "3.11.14"
  }
 },
 "nbformat": 4,
 "nbformat_minor": 5
}
